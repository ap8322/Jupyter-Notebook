{
 "cells": [
  {
   "cell_type": "code",
   "execution_count": 4,
   "metadata": {
    "collapsed": false
   },
   "outputs": [],
   "source": [
    "a = [1,2,3,4,5]\n",
    "b = [x for x in a if x%2 == 0]"
   ]
  },
  {
   "cell_type": "code",
   "execution_count": 11,
   "metadata": {
    "collapsed": false
   },
   "outputs": [
    {
     "data": {
      "text/plain": [
       "2"
      ]
     },
     "execution_count": 11,
     "metadata": {},
     "output_type": "execute_result"
    }
   ],
   "source": [
    "true = lambda x : lambda y : x\n",
    "false = lambda x : lambda y : y\n",
    "NOT = lambda bool: bool(false)(true)\n",
    "AND = lambda bool1: lambda bool2 : bool1(bool2)(false)\n",
    "OR = lambda bool1: lambda bool2: bool1(true)(bool2)\n",
    "AND(true)(false)"
   ]
  },
  {
   "cell_type": "code",
   "execution_count": 36,
   "metadata": {
    "collapsed": false
   },
   "outputs": [
    {
     "data": {
      "text/plain": [
       "4"
      ]
     },
     "execution_count": 36,
     "metadata": {},
     "output_type": "execute_result"
    }
   ],
   "source": [
    "zero = lambda f: lambda x: x\n",
    "one = lambda f: lambda x: f(x)\n",
    "two = lambda f: lambda x: f(f(x))\n",
    "\n",
    "to_int = lambda n: n(lambda x: x + 1)(0)\n",
    "succ = lambda n: (lambda f: lambda x: f(n(f)(x)))\n",
    "to_int(succ(zero))\n",
    "\n",
    "add = lambda m: lambda n: lambda f: lambda x: n(f)(m(f)(x))\n",
    "to_int(add(two)(two))"
   ]
  },
  {
   "cell_type": "code",
   "execution_count": 32,
   "metadata": {
    "collapsed": false
   },
   "outputs": [
    {
     "data": {
      "text/plain": [
       "<function __main__.<lambda>.<locals>.<lambda>>"
      ]
     },
     "execution_count": 32,
     "metadata": {},
     "output_type": "execute_result"
    }
   ],
   "source": [
    "to_int = lambda n: n(lambda x: x + 1)(0)\n",
    "succ = lambda n: lambda f: lambda x: f(n(f)(x))\n",
    "plus = lambda m: lambda n: lambda f: lambda x: m(f)(n(f)(x))\n",
    "succ(zero)"
   ]
  },
  {
   "cell_type": "code",
   "execution_count": null,
   "metadata": {
    "collapsed": true
   },
   "outputs": [],
   "source": []
  }
 ],
 "metadata": {
  "kernelspec": {
   "display_name": "Python 3",
   "language": "python",
   "name": "python3"
  },
  "language_info": {
   "codemirror_mode": {
    "name": "ipython",
    "version": 3
   },
   "file_extension": ".py",
   "mimetype": "text/x-python",
   "name": "python",
   "nbconvert_exporter": "python",
   "pygments_lexer": "ipython3",
   "version": "3.5.1"
  }
 },
 "nbformat": 4,
 "nbformat_minor": 0
}
